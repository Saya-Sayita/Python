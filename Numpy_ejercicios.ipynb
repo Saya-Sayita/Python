{
  "nbformat": 4,
  "nbformat_minor": 0,
  "metadata": {
    "colab": {
      "provenance": [],
      "authorship_tag": "ABX9TyOOfsa8AWa54w9z4Rlk9Xe1",
      "include_colab_link": true
    },
    "kernelspec": {
      "name": "python3",
      "display_name": "Python 3"
    },
    "language_info": {
      "name": "python"
    }
  },
  "cells": [
    {
      "cell_type": "markdown",
      "metadata": {
        "id": "view-in-github",
        "colab_type": "text"
      },
      "source": [
        "<a href=\"https://colab.research.google.com/github/Saya-Sayita/Python/blob/main/Numpy_ejercicios.ipynb\" target=\"_parent\"><img src=\"https://colab.research.google.com/assets/colab-badge.svg\" alt=\"Open In Colab\"/></a>"
      ]
    },
    {
      "cell_type": "code",
      "execution_count": 23,
      "metadata": {
        "colab": {
          "base_uri": "https://localhost:8080/",
          "height": 339
        },
        "id": "370d4-Rdb1bN",
        "outputId": "0d285af3-a28e-4f5d-cd87-51421884e54f"
      },
      "outputs": [
        {
          "output_type": "error",
          "ename": "ValueError",
          "evalue": "could not convert string '' to float64 at row 0, column 1.",
          "traceback": [
            "\u001b[0;31m---------------------------------------------------------------------------\u001b[0m",
            "\u001b[0;31mValueError\u001b[0m                                Traceback (most recent call last)",
            "\u001b[0;32m/tmp/ipython-input-23-1098932150.py\u001b[0m in \u001b[0;36m<cell line: 0>\u001b[0;34m()\u001b[0m\n\u001b[1;32m      2\u001b[0m \u001b[0murl\u001b[0m \u001b[0;34m=\u001b[0m \u001b[0;34m'https://gist.githubusercontent.com/ahcamachod/41b8a65c5e5b58125401deafb68af460/raw/f84320f69efa1cc3e86e1db054422cfa4869c63e/manzanas.csv'\u001b[0m\u001b[0;34m\u001b[0m\u001b[0;34m\u001b[0m\u001b[0m\n\u001b[1;32m      3\u001b[0m \u001b[0;34m\u001b[0m\u001b[0m\n\u001b[0;32m----> 4\u001b[0;31m \u001b[0mnp\u001b[0m\u001b[0;34m.\u001b[0m\u001b[0mloadtxt\u001b[0m\u001b[0;34m(\u001b[0m\u001b[0murl\u001b[0m\u001b[0;34m,\u001b[0m\u001b[0mdelimiter\u001b[0m\u001b[0;34m=\u001b[0m\u001b[0;34m','\u001b[0m\u001b[0;34m)\u001b[0m\u001b[0;34m\u001b[0m\u001b[0;34m\u001b[0m\u001b[0m\n\u001b[0m",
            "\u001b[0;32m/usr/local/lib/python3.11/dist-packages/numpy/lib/_npyio_impl.py\u001b[0m in \u001b[0;36mloadtxt\u001b[0;34m(fname, dtype, comments, delimiter, converters, skiprows, usecols, unpack, ndmin, encoding, max_rows, quotechar, like)\u001b[0m\n\u001b[1;32m   1379\u001b[0m         \u001b[0mdelimiter\u001b[0m \u001b[0;34m=\u001b[0m \u001b[0mdelimiter\u001b[0m\u001b[0;34m.\u001b[0m\u001b[0mdecode\u001b[0m\u001b[0;34m(\u001b[0m\u001b[0;34m'latin1'\u001b[0m\u001b[0;34m)\u001b[0m\u001b[0;34m\u001b[0m\u001b[0;34m\u001b[0m\u001b[0m\n\u001b[1;32m   1380\u001b[0m \u001b[0;34m\u001b[0m\u001b[0m\n\u001b[0;32m-> 1381\u001b[0;31m     arr = _read(fname, dtype=dtype, comment=comment, delimiter=delimiter,\n\u001b[0m\u001b[1;32m   1382\u001b[0m                 \u001b[0mconverters\u001b[0m\u001b[0;34m=\u001b[0m\u001b[0mconverters\u001b[0m\u001b[0;34m,\u001b[0m \u001b[0mskiplines\u001b[0m\u001b[0;34m=\u001b[0m\u001b[0mskiprows\u001b[0m\u001b[0;34m,\u001b[0m \u001b[0musecols\u001b[0m\u001b[0;34m=\u001b[0m\u001b[0musecols\u001b[0m\u001b[0;34m,\u001b[0m\u001b[0;34m\u001b[0m\u001b[0;34m\u001b[0m\u001b[0m\n\u001b[1;32m   1383\u001b[0m                 \u001b[0munpack\u001b[0m\u001b[0;34m=\u001b[0m\u001b[0munpack\u001b[0m\u001b[0;34m,\u001b[0m \u001b[0mndmin\u001b[0m\u001b[0;34m=\u001b[0m\u001b[0mndmin\u001b[0m\u001b[0;34m,\u001b[0m \u001b[0mencoding\u001b[0m\u001b[0;34m=\u001b[0m\u001b[0mencoding\u001b[0m\u001b[0;34m,\u001b[0m\u001b[0;34m\u001b[0m\u001b[0;34m\u001b[0m\u001b[0m\n",
            "\u001b[0;32m/usr/local/lib/python3.11/dist-packages/numpy/lib/_npyio_impl.py\u001b[0m in \u001b[0;36m_read\u001b[0;34m(fname, delimiter, comment, quote, imaginary_unit, usecols, skiplines, max_rows, converters, ndmin, unpack, dtype, encoding)\u001b[0m\n\u001b[1;32m   1019\u001b[0m \u001b[0;34m\u001b[0m\u001b[0m\n\u001b[1;32m   1020\u001b[0m         \u001b[0;32mif\u001b[0m \u001b[0mread_dtype_via_object_chunks\u001b[0m \u001b[0;32mis\u001b[0m \u001b[0;32mNone\u001b[0m\u001b[0;34m:\u001b[0m\u001b[0;34m\u001b[0m\u001b[0;34m\u001b[0m\u001b[0m\n\u001b[0;32m-> 1021\u001b[0;31m             arr = _load_from_filelike(\n\u001b[0m\u001b[1;32m   1022\u001b[0m                 \u001b[0mdata\u001b[0m\u001b[0;34m,\u001b[0m \u001b[0mdelimiter\u001b[0m\u001b[0;34m=\u001b[0m\u001b[0mdelimiter\u001b[0m\u001b[0;34m,\u001b[0m \u001b[0mcomment\u001b[0m\u001b[0;34m=\u001b[0m\u001b[0mcomment\u001b[0m\u001b[0;34m,\u001b[0m \u001b[0mquote\u001b[0m\u001b[0;34m=\u001b[0m\u001b[0mquote\u001b[0m\u001b[0;34m,\u001b[0m\u001b[0;34m\u001b[0m\u001b[0;34m\u001b[0m\u001b[0m\n\u001b[1;32m   1023\u001b[0m                 \u001b[0mimaginary_unit\u001b[0m\u001b[0;34m=\u001b[0m\u001b[0mimaginary_unit\u001b[0m\u001b[0;34m,\u001b[0m\u001b[0;34m\u001b[0m\u001b[0;34m\u001b[0m\u001b[0m\n",
            "\u001b[0;31mValueError\u001b[0m: could not convert string '' to float64 at row 0, column 1."
          ]
        }
      ],
      "source": [
        "import numpy as np\n",
        "url = 'https://gist.githubusercontent.com/ahcamachod/41b8a65c5e5b58125401deafb68af460/raw/f84320f69efa1cc3e86e1db054422cfa4869c63e/manzanas.csv'\n",
        "\n",
        "np.loadtxt(url,delimiter=',')"
      ]
    },
    {
      "cell_type": "code",
      "source": [
        "#12 * 7 + 3 se calcula la cantidad de meses para estimar el rango\n",
        "\n",
        "# para establecer el rango se estipula el que quiero alcanzar desde columna 1 hasta la 87 (el 2do parametro es excluyente por ende se suma 1 posicion)\n",
        "# y se recorreran los valores de 1 en 1\n",
        "np.arange(1,88,1)"
      ],
      "metadata": {
        "colab": {
          "base_uri": "https://localhost:8080/"
        },
        "id": "mNeWy6NPjbd5",
        "outputId": "86f41f37-51af-4ba8-c75e-f95e1406e37e"
      },
      "execution_count": 31,
      "outputs": [
        {
          "output_type": "execute_result",
          "data": {
            "text/plain": [
              "array([ 1,  2,  3,  4,  5,  6,  7,  8,  9, 10, 11, 12, 13, 14, 15, 16, 17,\n",
              "       18, 19, 20, 21, 22, 23, 24, 25, 26, 27, 28, 29, 30, 31, 32, 33, 34,\n",
              "       35, 36, 37, 38, 39, 40, 41, 42, 43, 44, 45, 46, 47, 48, 49, 50, 51,\n",
              "       52, 53, 54, 55, 56, 57, 58, 59, 60, 61, 62, 63, 64, 65, 66, 67, 68,\n",
              "       69, 70, 71, 72, 73, 74, 75, 76, 77, 78, 79, 80, 81, 82, 83, 84, 85,\n",
              "       86, 87])"
            ]
          },
          "metadata": {},
          "execution_count": 31
        }
      ]
    },
    {
      "cell_type": "code",
      "source": [
        "datos=np.loadtxt(url,delimiter=',',usecols=np.arange(1,88,1))\n",
        "print(datos)"
      ],
      "metadata": {
        "colab": {
          "base_uri": "https://localhost:8080/"
        },
        "id": "mI81Sb41kbe1",
        "outputId": "0ed6b601-9bee-4b38-a469-91752f0d6042"
      },
      "execution_count": 34,
      "outputs": [
        {
          "output_type": "stream",
          "name": "stdout",
          "text": [
            "[[  1.2013   2.2013   3.2013   4.2013   5.2013   6.2013   7.2013   8.2013\n",
            "    9.2013  10.2013  11.2013  12.2013   1.2014   2.2014   3.2014   4.2014\n",
            "    5.2014   6.2014   7.2014   8.2014   9.2014  10.2014  11.2014  12.2014\n",
            "    1.2015   2.2015   3.2015   4.2015   5.2015   6.2015   7.2015   8.2015\n",
            "    9.2015  10.2015  11.2015  12.2015   1.2016   2.2016   3.2016   4.2016\n",
            "    5.2016   6.2016   7.2016   8.2016   9.2016  10.2016  11.2016  12.2016\n",
            "    1.2017   2.2017   3.2017   4.2017   5.2017   6.2017   7.2017   8.2017\n",
            "    9.2017  10.2017  11.2017  12.2017   1.2018   2.2018   3.2018   4.2018\n",
            "    5.2018   6.2018   7.2018   8.2018   9.2018  10.2018  11.2018  12.2018\n",
            "    1.2019   2.2019   3.2019   4.2019   5.2019   6.2019   7.2019   8.2019\n",
            "    9.2019  10.2019  11.2019  12.2019   1.202    2.202    3.202 ]\n",
            " [ 79.72    81.08    79.68    79.8     80.63    80.8     80.28    78.99\n",
            "   76.77    76.09    76.36    77.16    77.5     79.03    80.28    80.05\n",
            "   78.11    76.9     77.68    76.05    75.53    73.39    78.36    89.16\n",
            "  105.43   104.82   101.15    98.63    99.96    97.29    98.64   104.26\n",
            "  102.63    98.64    97.17    98.09   103.07   110.26   110.84   112.28\n",
            "  111.1    110.06   113.7    112.88   102.08    95.54    91.33    89.99\n",
            "   91.44    93.51    93.6     93.78    98.91   121.76   129.6    127.9\n",
            "  114.55   101.88    99.09   103.35   106.58   108.     114.95   121.17\n",
            "  122.48   127.58   131.89   129.36   104.26    93.45    92.93    96.15\n",
            "   99.1    103.     103.31   103.01   107.37   116.91   125.29   123.94\n",
            "  113.03   102.19    97.83   101.07   103.44   108.23   110.28  ]\n",
            " [ 42.67    44.37    44.73    46.75        nan  51.59    57.8     62.14\n",
            "   56.76    50.85    46.43    46.73    45.85    49.25    48.14    49.18\n",
            "   49.49    49.83    49.14    63.21    61.2     60.34    62.2     74.2\n",
            "   75.32    75.92    72.89    74.85    92.19    99.7    102.78    92.67\n",
            "   90.63    83.31    75.5     74.6     76.94    83.04    80.74    80.29\n",
            "   82.82    86.29    87.41    85.1     78.08    76.06    69.23    69.04\n",
            "   64.48    65.73    67.2     70.25    82.59    92.12   100.82    95.23\n",
            "   89.51    82.84    82.3     83.76    84.72    83.91    99.14   101.6\n",
            "  113.03   119.54   118.09   107.32    82.6     77.4     71.77    71.25\n",
            "   71.35    73.62    76.2     74.15    75.67    79.2     80.85    85.33\n",
            "   75.02    77.95    78.98    76.55    74.89    70.      81.53  ]\n",
            " [ 62.55    62.73    63.43    63.83    66.06    69.22    72.07    69.31\n",
            "   65.18    62.13    64.17    65.5     66.85    68.38    68.77    69.32\n",
            "   69.77    70.17    70.76    75.16    74.86    71.47    76.08    82.11\n",
            "   94.63    98.54    97.84    94.54    97.88    97.73   100.89   104.88\n",
            "  104.39   101.9     98.99    99.42   106.37   113.89   114.78   115.6\n",
            "  115.89   117.66   118.27   114.19   101.81    91.62    90.15    90.55\n",
            "   92.3     91.75    92.      92.57   100.28   114.33   122.17   117.83\n",
            "  112.49    93.7     97.17    95.64   102.21   107.58   110.48   117.73\n",
            "  122.07   128.58   131.12   127.08   110.99    97.43    92.05    93.21\n",
            "   98.58   100.23   102.09   101.73   107.28   115.35   123.03   123.08\n",
            "  109.71    97.22    95.75    97.09    98.18   103.1    110.6   ]\n",
            " [ 48.26    51.01    50.91    53.94    61.27    65.44    56.51    53.\n",
            "   43.87    42.12    43.98    44.66    47.73    52.31    56.8     51.15\n",
            "   54.63    55.8     57.31    53.81    55.5     52.95    53.29    54.86\n",
            "   71.72    74.36    78.25    70.63    77.06    81.52    84.12    83.33\n",
            "   66.98    62.04    59.79    66.06    71.99    76.79    80.98    89.18\n",
            "   92.71    94.85    99.18    86.33    71.94    67.18    62.98    69.45\n",
            "   67.56    67.92    68.4     67.97    76.33    95.79   112.36    82.03\n",
            "   73.83    66.12    63.24    63.98    69.1     70.04    80.03    87.92\n",
            "   97.07   106.52   108.93    95.17    74.31    62.63    69.92    70.58\n",
            "   74.63    78.69    81.82    82.36    89.44   102.01   116.12    92.06\n",
            "   82.7     66.62    68.11    73.48    82.04    81.19    95.05  ]\n",
            " [ 71.25    71.35    70.9     71.92    72.91    74.39    73.1     70.24\n",
            "   69.12    68.98    68.58    69.5     70.14    70.58    70.78    72.78\n",
            "   72.84    74.74    76.43    81.2     82.04    79.67    81.25    85.88\n",
            "   91.35   101.32   102.45    98.18   105.1    104.85   111.48   118.51\n",
            "  118.92   109.87   105.22   105.45   115.61   116.61   120.39   119.2\n",
            "  119.92   120.57   123.37   121.39   118.16   108.84   100.78    99.92\n",
            "  100.65    98.92   100.31    96.41   101.24   118.7    133.29   130.31\n",
            "  122.4    104.98   107.54   110.74   110.51   111.46   113.42   118.15\n",
            "  114.     124.91   126.06   123.3    111.61    98.82    97.47   103.01\n",
            "  109.36   104.79   105.09   103.16   106.52   121.68   125.32   123.41\n",
            "  108.48    98.73    96.25   100.12   101.29   102.81   108.53  ]]\n"
          ]
        }
      ]
    }
  ]
}